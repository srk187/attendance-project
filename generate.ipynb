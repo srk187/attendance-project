{
 "cells": [
  {
   "cell_type": "code",
   "execution_count": 2,
   "metadata": {},
   "outputs": [],
   "source": [
    "import csv\n",
    "import pyqrcode\n",
    "import pandas as pd\n",
    "\n",
    "def createQrcode():\n",
    "    \n",
    "    df = pd.read_csv(\"data.csv\")\n",
    "\n",
    "    for index, values in df.iterrows():\n",
    "\n",
    "        en_no = values['Enrollment_no']\n",
    "        name = values['Name']\n",
    "\n",
    "        data = f'''{en_no} {name}'''\n",
    "        image = pyqrcode.create(data)\n",
    "        image.svg(f\"{en_no}_{name}.svg\", scale=5)\n",
    "\n",
    "createQrcode()"
   ]
  },
  {
   "cell_type": "code",
   "execution_count": null,
   "metadata": {},
   "outputs": [],
   "source": []
  }
 ],
 "metadata": {
  "kernelspec": {
   "display_name": "Python 3.10.2 64-bit",
   "language": "python",
   "name": "python3"
  },
  "language_info": {
   "codemirror_mode": {
    "name": "ipython",
    "version": 3
   },
   "file_extension": ".py",
   "mimetype": "text/x-python",
   "name": "python",
   "nbconvert_exporter": "python",
   "pygments_lexer": "ipython3",
   "version": "3.10.2"
  },
  "orig_nbformat": 4,
  "vscode": {
   "interpreter": {
    "hash": "ecd724d921734a527ebe3e8b64dff4f67e20479586a2e56b4cd0ddded5b64780"
   }
  }
 },
 "nbformat": 4,
 "nbformat_minor": 2
}
